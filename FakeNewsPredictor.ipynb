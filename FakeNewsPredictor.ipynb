{
 "cells": [
  {
   "cell_type": "markdown",
   "metadata": {},
   "source": [
    "# Fake News Machine learning prediction model"
   ]
  },
  {
   "cell_type": "markdown",
   "metadata": {},
   "source": [
    "## Imports"
   ]
  },
  {
   "cell_type": "code",
   "execution_count": 1,
   "metadata": {},
   "outputs": [
    {
     "name": "stderr",
     "output_type": "stream",
     "text": [
      "[nltk_data] Downloading package stopwords to\n",
      "[nltk_data]     /Users/thomas/nltk_data...\n",
      "[nltk_data]   Package stopwords is already up-to-date!\n"
     ]
    }
   ],
   "source": [
    "# Generic\n",
    "import pandas as pd\n",
    "import re\n",
    "import os\n",
    "import numpy as np\n",
    "#from tqdm import tqdm\n",
    "from tqdm import tqdm  # for notebooks\n",
    "\n",
    "# Create new `pandas` methods which use `tqdm` progress\n",
    "# (can use tqdm_gui, optional kwargs, etc.)\n",
    "tqdm.pandas()\n",
    "\n",
    "# Natural Language Processing\n",
    "import nltk\n",
    "nltk.download('stopwords')\n",
    "from nltk.stem.porter import PorterStemmer\n",
    "from nltk.corpus import stopwords\n",
    "\n",
    "# Machine learning modelling Helpers\n",
    "from sklearn.model_selection import train_test_split\n",
    "from sklearn.feature_extraction.text import TfidfVectorizer\n",
    "from sklearn.feature_extraction.text import CountVectorizer\n",
    "from sklearn import metrics\n",
    "\n",
    "# Modelling Algorithms\n",
    "from sklearn.naive_bayes import MultinomialNB\n",
    "from sklearn.linear_model import PassiveAggressiveClassifier, LogisticRegression\n",
    "\n",
    "# Random\n",
    "import itertools\n",
    "\n",
    "# Visualizations\n",
    "import matplotlib.pyplot as plt\n"
   ]
  },
  {
   "cell_type": "code",
   "execution_count": 30,
   "metadata": {},
   "outputs": [],
   "source": [
    "# Creating a function that outputs a confusion matrix\n",
    "def plot_confusion_matrix(cm, classes,\n",
    "                          normalize=False,\n",
    "                          title='Confusion matrix',\n",
    "                          cmap=plt.cm.Blues):\n",
    "    \n",
    "    plt.imshow(cm, interpolation='nearest', cmap=cmap)\n",
    "    plt.title(title)\n",
    "    plt.colorbar()\n",
    "    tick_marks = np.arange(len(classes))\n",
    "    plt.xticks(tick_marks, classes, rotation=45)\n",
    "    plt.yticks(tick_marks, classes)\n",
    "    thresh = cm.max() / 2.\n",
    "    for i, j in itertools.product(range(cm.shape[0]), range(cm.shape[1])):\n",
    "        plt.text(j, i, cm[i, j],\n",
    "                 horizontalalignment=\"center\",\n",
    "                 color=\"white\" if cm[i, j] > thresh else \"black\")\n",
    "\n",
    "    plt.tight_layout()\n",
    "    plt.ylabel('True label')\n",
    "    plt.xlabel('Predicted label')"
   ]
  },
  {
   "cell_type": "markdown",
   "metadata": {},
   "source": [
    "# Loading and filtering data"
   ]
  },
  {
   "cell_type": "code",
   "execution_count": 3,
   "metadata": {},
   "outputs": [
    {
     "name": "stdout",
     "output_type": "stream",
     "text": [
      "Empty Training data:\n",
      "id           0\n",
      "title      558\n",
      "author    1957\n",
      "text        39\n",
      "label        0\n",
      "dtype: int64\n"
     ]
    }
   ],
   "source": [
    "# First we load the data\n",
    "train = pd.read_csv('./fake-news/train.csv')\n",
    "# Then we check for any missing values in the data\n",
    "print(\"Empty Training data:\")\n",
    "print(train.isnull().sum())"
   ]
  },
  {
   "cell_type": "code",
   "execution_count": 4,
   "metadata": {},
   "outputs": [],
   "source": [
    "#Seeing as there is some empty data, we have to fill this with something\n",
    "# We are working with text so we'll fill it with empty strings:\n",
    "train = train.fillna(\"\")"
   ]
  },
  {
   "cell_type": "code",
   "execution_count": 5,
   "metadata": {},
   "outputs": [
    {
     "data": {
      "text/html": [
       "<div>\n",
       "<style scoped>\n",
       "    .dataframe tbody tr th:only-of-type {\n",
       "        vertical-align: middle;\n",
       "    }\n",
       "\n",
       "    .dataframe tbody tr th {\n",
       "        vertical-align: top;\n",
       "    }\n",
       "\n",
       "    .dataframe thead th {\n",
       "        text-align: right;\n",
       "    }\n",
       "</style>\n",
       "<table border=\"1\" class=\"dataframe\">\n",
       "  <thead>\n",
       "    <tr style=\"text-align: right;\">\n",
       "      <th></th>\n",
       "      <th>id</th>\n",
       "      <th>title</th>\n",
       "      <th>author</th>\n",
       "      <th>text</th>\n",
       "      <th>label</th>\n",
       "    </tr>\n",
       "  </thead>\n",
       "  <tbody>\n",
       "    <tr>\n",
       "      <th>0</th>\n",
       "      <td>0</td>\n",
       "      <td>House Dem Aide: We Didn’t Even See Comey’s Let...</td>\n",
       "      <td>Darrell Lucus</td>\n",
       "      <td>House Dem Aide: We Didn’t Even See Comey’s Let...</td>\n",
       "      <td>1</td>\n",
       "    </tr>\n",
       "    <tr>\n",
       "      <th>1</th>\n",
       "      <td>1</td>\n",
       "      <td>FLYNN: Hillary Clinton, Big Woman on Campus - ...</td>\n",
       "      <td>Daniel J. Flynn</td>\n",
       "      <td>Ever get the feeling your life circles the rou...</td>\n",
       "      <td>0</td>\n",
       "    </tr>\n",
       "    <tr>\n",
       "      <th>2</th>\n",
       "      <td>2</td>\n",
       "      <td>Why the Truth Might Get You Fired</td>\n",
       "      <td>Consortiumnews.com</td>\n",
       "      <td>Why the Truth Might Get You Fired October 29, ...</td>\n",
       "      <td>1</td>\n",
       "    </tr>\n",
       "    <tr>\n",
       "      <th>3</th>\n",
       "      <td>3</td>\n",
       "      <td>15 Civilians Killed In Single US Airstrike Hav...</td>\n",
       "      <td>Jessica Purkiss</td>\n",
       "      <td>Videos 15 Civilians Killed In Single US Airstr...</td>\n",
       "      <td>1</td>\n",
       "    </tr>\n",
       "    <tr>\n",
       "      <th>4</th>\n",
       "      <td>4</td>\n",
       "      <td>Iranian woman jailed for fictional unpublished...</td>\n",
       "      <td>Howard Portnoy</td>\n",
       "      <td>Print \\nAn Iranian woman has been sentenced to...</td>\n",
       "      <td>1</td>\n",
       "    </tr>\n",
       "  </tbody>\n",
       "</table>\n",
       "</div>"
      ],
      "text/plain": [
       "   id                                              title              author  \\\n",
       "0   0  House Dem Aide: We Didn’t Even See Comey’s Let...       Darrell Lucus   \n",
       "1   1  FLYNN: Hillary Clinton, Big Woman on Campus - ...     Daniel J. Flynn   \n",
       "2   2                  Why the Truth Might Get You Fired  Consortiumnews.com   \n",
       "3   3  15 Civilians Killed In Single US Airstrike Hav...     Jessica Purkiss   \n",
       "4   4  Iranian woman jailed for fictional unpublished...      Howard Portnoy   \n",
       "\n",
       "                                                text  label  \n",
       "0  House Dem Aide: We Didn’t Even See Comey’s Let...      1  \n",
       "1  Ever get the feeling your life circles the rou...      0  \n",
       "2  Why the Truth Might Get You Fired October 29, ...      1  \n",
       "3  Videos 15 Civilians Killed In Single US Airstr...      1  \n",
       "4  Print \\nAn Iranian woman has been sentenced to...      1  "
      ]
     },
     "execution_count": 5,
     "metadata": {},
     "output_type": "execute_result"
    }
   ],
   "source": [
    "# Inspecting the data\n",
    "train.head()"
   ]
  },
  {
   "cell_type": "code",
   "execution_count": 6,
   "metadata": {},
   "outputs": [],
   "source": [
    "# To make an accurate predection we want to include all the relevant factors when passing data to the model\n",
    "# In our case, both the title, the author and the content can be an indication of fake news\n",
    "train['content']=train['author'] +': ' + train['title'] + '\\n' + train['text']"
   ]
  },
  {
   "cell_type": "markdown",
   "metadata": {},
   "source": [
    "**Stemming** <br>\n",
    "To determine which words are important in the fake news articles, we have to \"Stem\" them.\n",
    "In other words reduce them to their roots to unify them.\n",
    "Example:\n",
    "* waited,waiting,waits -> wait\n",
    "\n",
    "To do this we use the python package **N**atural **L**anguage **T**ool**k**it (nltk)"
   ]
  },
  {
   "cell_type": "code",
   "execution_count": 7,
   "metadata": {},
   "outputs": [],
   "source": [
    "# Create pickle of df to be able to use cached value\n",
    "useCachedStem = True\n",
    "picklePath = './stemmedData.pkl'\n",
    "# First we utilize a port stemmer to stem the words from the article content\n",
    "port_stem = PorterStemmer()\n",
    "# Next we specify a function that both applies this port stemmer algorithm and cleans the content \n",
    "def stemContent(content):\n",
    "    content = re.sub('[^a-zA-Z]',' ',content) # Remove \\#!€ etc.\n",
    "    content = content.lower() # Change all to lowercase\n",
    "    content = content.split() # Convert into an array to apply port stemmer algorithm on each word\n",
    "    # Stem each word if it is not a stop word (words commenly used in a language but don't provide \n",
    "    # any value for the machine learning categorization task (for, an, nor, but, or, yet, so etc.))\n",
    "    # This allows for faster processing later on\n",
    "    content = [port_stem.stem(word) for word in content if not word in stopwords.words('english')] \n",
    "    content = ' '.join(content) # Join the list of stemmed words back into one string\n",
    "    return content\n",
    "\n",
    "if not useCachedStem:\n",
    "    # Apply the stemming function to each element in the dataset:\n",
    "    train['content'] = train['content'].progress_apply(stemContent)\n",
    "    print(train['content'])\n",
    "    train.to_pickle(picklePath)\n",
    "else:\n",
    "    if os.path.exists(picklePath):\n",
    "        train = pd.read_pickle(picklePath)\n",
    "    else:\n",
    "        raise Exception(\"Error no cached pickle file. Run the function with useCachedStem=False to recalcuate the df, and create the pickle file '\" + os.path.basename(picklePath) + \"'\" )\n",
    "\n",
    "    "
   ]
  },
  {
   "cell_type": "code",
   "execution_count": 8,
   "metadata": {},
   "outputs": [],
   "source": [
    "# We devidie the data into text (X) and label (Y) as well as training (80%) and test data (20%)\n",
    "# NOTE: random_state is set to get the same division of the data each time the code is run\n",
    "X_train, X_test, y_train, y_test = train_test_split(train['content'], train['label'], test_size=0.20, random_state=0) "
   ]
  },
  {
   "cell_type": "markdown",
   "metadata": {},
   "source": [
    "# Feature extraction / encoding\n",
    "Machine learning algorithms cannot work with raw text directly. The text must therefore be converted into numbers. Specifically, vectors of numbers. This process is call feature encoding or feature extraction"
   ]
  },
  {
   "cell_type": "markdown",
   "metadata": {},
   "source": [
    "## Vectorization\n",
    "Next we have to **Vectorize** our text, i.e. convert each word to a number. <br>\n",
    "### Count vectorization\n",
    "To calcualte the word frequency scores we first have to instantiate a <em><strong>Count Vectorizer</strong></em>. <br>\n",
    "The sklearn `CountVectorizer` is used to convert a collection of text documents into a vector of term/token counts. <br>\n",
    "In other words it creates a matrix that indicates which words a document contains as seen below:\n",
    "<img src=\"https://res.cloudinary.com/practicaldev/image/fetch/s--qveZ_g7d--/c_limit%2Cf_auto%2Cfl_progressive%2Cq_auto%2Cw_880/https://raw.githubusercontent.com/cassieview/intro-nlp-wine-reviews/master/imgs/vectorchart.PNG\"/>\n"
   ]
  },
  {
   "cell_type": "code",
   "execution_count": 9,
   "metadata": {},
   "outputs": [],
   "source": [
    "# Initialize the CountVectorizer\n",
    "count_vectorizer = CountVectorizer(ngram_range=(1, 2), stop_words='english') \n",
    "# Fit and transform the training data.\n",
    "# In other words calculate counts with a given corpus (iterable of documents)\n",
    "count_train = count_vectorizer.fit_transform(X_train)\n",
    "\n",
    "# Next we transform the test set \n",
    "# Simply put we map the vocabulary from the training data to that of the test data, so that the number of feautres in the test data remains the same as in the training data\n",
    "count_test = count_vectorizer.transform(X_test)"
   ]
  },
  {
   "cell_type": "markdown",
   "metadata": {},
   "source": [
    "## Multinomial Naive Bayes with Count Vectorizer (BagofWords)\n",
    "Now that we have our Count Vectorizer we can start to produce actual machine learning models to use on the data. <br>\n",
    "The first one of these will be the classic <em><strong>bag-of-words</strong></em> model. <br>\n",
    "A bag-of-words is a representation of text that describes the occurrence of words within a document. It involves two things:\n",
    "\n",
    "1. A vocabulary of known words.\n",
    "2. A measure of the presence of known words.\n",
    "\n",
    "It is called a “bag” of words, seeing as any information about the order or structure of words in the document is discarded. The model is only concerned with whether known words occur in the document, not where in the document.<br>\n",
    "This is basicaly what our Counter Vectorizer is. A vector with counts of how many times various words appear in a document. \n",
    "In combination with this we will be utilizing the classic <em><strong>Multinomial Naive Bayes</strong></em> machine learning model. <br>\n",
    "The Multinomial Naive Bayes algorithm is a probabilistic learning method in which the probability of each tag for a given sample is calculated and the tag with the highest probability is chosen as output.<br>\n",
    "Bayes theorem, formulated by Thomas Bayes, calculates the probability of an event occurring based on the prior knowledge of conditions related to an event. The theorem is based on the following formula:\n",
    "\n",
    "P(A|B) = P(A) * P(B|A)/P(B)\n",
    "\n",
    "Where we are calculating the probability of class A when predictor B is already provided.\n",
    "\n",
    "P(B) = prior probability of B\n",
    "\n",
    "P(A) = prior probability of class A\n",
    "\n",
    "P(B|A) = occurrence of predictor B given class A probability\n",
    "\n",
    "To do this in python we utilize the <em>MultinomialNB</em> classifier that the sklearn library provides. <br>\n",
    "We then perform the same step as with the vectorizers: we fit the model to the data. After this we can use the model to make a prediction on the test data and finally get it to output the average accuracy it achieved with the metrics.accuracy_score, also provided by the sklearn library\n"
   ]
  },
  {
   "cell_type": "code",
   "execution_count": 10,
   "metadata": {},
   "outputs": [
    {
     "name": "stdout",
     "output_type": "stream",
     "text": [
      "Accuracy: 92.95673076923077%\n"
     ]
    }
   ],
   "source": [
    "# Create the Multinomial naive bayes classifier\n",
    "nb_classifier = MultinomialNB(alpha = 0.1)\n",
    "# Fit it to the data\n",
    "nb_classifier.fit(count_train, y_train)\n",
    "# Attempt to predict on the test data\n",
    "pred_nb_count = nb_classifier.predict(count_test)\n",
    "# Extract the accurary and print it\n",
    "acc_nb_count = metrics.accuracy_score(y_test, pred_nb_count)\n",
    "print(\"Accuracy: {}%\".format(acc_nb_count*100))"
   ]
  },
  {
   "cell_type": "markdown",
   "metadata": {},
   "source": [
    "### Fiddling with the alpha value\n",
    "As seen we achieve a fairly high accuracy. Though how can we make it better with this model? <br>\n",
    "The avid coder will have noticed that an <em>alpha</em> value is passed into the Multinomial naive bayes classifier. This is a <em><strong>hyperparameter</strong></em>. In other words a parameter that controls the form of the model itself. In this case it is a laplace smoothing parameter which with a higher value diverges toward a uniform distribution (of words). This parameter is in place so that if we encounter a word in the test set, which is not in the training set, we don't just get a probability of zero for that word (to indicate fake-news). Instead the alpha parameter increases all probabilities, so that we hence avoid having proabilities of 0.\n",
    "\n",
    "Let's try to play with this parameter and see what value supplies the most optimal accuracy\n"
   ]
  },
  {
   "cell_type": "code",
   "execution_count": 11,
   "metadata": {},
   "outputs": [
    {
     "name": "stderr",
     "output_type": "stream",
     "text": [
      "/opt/homebrew/Caskroom/miniconda/base/envs/ML-env/lib/python3.9/site-packages/sklearn/naive_bayes.py:591: UserWarning: alpha too small will result in numeric errors, setting alpha = 1.0e-10\n",
      "  warnings.warn(\n"
     ]
    },
    {
     "name": "stdout",
     "output_type": "stream",
     "text": [
      "Alpha: 0.00 Score: 89.20673%\n",
      "Alpha: 0.05 Score: 92.83654%\n",
      "Alpha: 0.10 Score: 92.95673%\n",
      "Alpha: 0.15 Score: 92.93269%\n",
      "Alpha: 0.20 Score: 93.00481%\n",
      "Alpha: 0.25 Score: 92.93269%\n",
      "Alpha: 0.30 Score: 92.95673%\n",
      "Alpha: 0.35 Score: 92.90865%\n",
      "Alpha: 0.40 Score: 92.86058%\n",
      "Alpha: 0.45 Score: 92.74038%\n",
      "Alpha: 0.50 Score: 92.66827%\n",
      "Alpha: 0.55 Score: 92.62019%\n",
      "Alpha: 0.60 Score: 92.40385%\n",
      "Alpha: 0.65 Score: 92.37981%\n",
      "Alpha: 0.70 Score: 92.25962%\n",
      "Alpha: 0.75 Score: 92.25962%\n",
      "Alpha: 0.80 Score: 92.18750%\n",
      "Alpha: 0.85 Score: 92.09135%\n",
      "Alpha: 0.90 Score: 91.87500%\n",
      "Alpha: 0.95 Score: 91.68269%\n"
     ]
    }
   ],
   "source": [
    "# Perform same steps as previous cell but change alpha each time\n",
    "for alpha in np.arange(0,1,.05):\n",
    "    nb_classifier_tune = MultinomialNB(alpha=alpha)\n",
    "    nb_classifier_tune.fit(count_train, y_train)\n",
    "    pred_tune = nb_classifier_tune.predict(count_test)\n",
    "    score = metrics.accuracy_score(y_test, pred_tune)\n",
    "    print(\"Alpha: {:.2f} Score: {:.5f}%\".format(alpha, score*100))"
   ]
  },
  {
   "cell_type": "markdown",
   "metadata": {},
   "source": [
    "As seen the best score obtained is 92.95% with an alpha of 0.10. Lets look at the confusion matrix with this value of alpha"
   ]
  },
  {
   "cell_type": "code",
   "execution_count": 12,
   "metadata": {},
   "outputs": [
    {
     "data": {
      "image/png": "[encoded data removed]",
      "text/plain": [
       "<Figure size 432x288 with 2 Axes>"
      ]
     },
     "metadata": {
      "needs_background": "light"
     },
     "output_type": "display_data"
    }
   ],
   "source": [
    "# Create the Multinomial naive bayes classifier\n",
    "nb_classifier = MultinomialNB(alpha = 0.10)\n",
    "# Fit it to the data\n",
    "nb_classifier.fit(count_train, y_train)\n",
    "# Attempt to predict on the test data\n",
    "pred_nb_count = nb_classifier.predict(count_test)\n",
    "# Create confusion matrix and plot it:\n",
    "cm = metrics.confusion_matrix(y_test, pred_nb_count, labels=[0,1])\n",
    "plot_confusion_matrix(cm, classes=['TRUE','FAKE'], title ='Confusion matrix for a Multinomial Naive Bayes with Count Vectorizer model (Bag-of-words)')"
   ]
  },
  {
   "cell_type": "markdown",
   "metadata": {},
   "source": [
    "As seen we do get quite a lot of false positives which isn't great.\n",
    "## Increasing the performance of Multinomial naive bayes\n",
    "To figure out which words, or sequence of words, give an indication of fake-news we will have to look at <em><strong>word frequencies</strong></em> one way or another. To avoid the impact of words or <em><strong>tokens</strong></em> that occur frequently in a given <em><strong>corpus</strong></em> (set of documents) we use a **T**erm **F**requency **I**nverse **D**ocument **F**requency or TF-IDF for short. This is an algorithm that transforms text into a meaningful representation of numbers that our future machine learning algorithm(s) can use for prediction. By using a TFIDF the impact of frequently occuring tokens, which are hence emperically less informative, is reduced compared to features/tokens that occur in a small fraction of the training corpus. <br>\n",
    "TF-IDF is simply put a measure of how <em>original</em> a word is. It compares the number of times a word appears in a document with the number of of documents the word appers in.<br>\n",
    "More Formally:<br>\n",
    "<p align=\"center\">\n",
    "<img src=\"https://latex.codecogs.com/svg.image?TF-IDF&space;=&space;TF(t,d)*IDF(t)\"/><br>\n",
    "</p>\n",
    "Whereof:\n",
    "<ul>\n",
    "<li>d = a document</li>\n",
    "<li>t = Term Frequency / number of times term t appears in a doc, d</li>\n",
    "<li>IDF = Inverse document frequency</li>\n",
    "</ul>\n",
    "Where IDF is defined as:<br>\n",
    "<p align=\"center\">\n",
    "<img src=\"https://latex.codecogs.com/svg.image?IDF(t)&space;=&space;log(\\frac{1&plus;n}{1&plus;df(d,t)}&plus;1)\" /><br>\n",
    "</p>\n",
    "Whereof:\n",
    "<ul>\n",
    "<li>n = # of documents</li>\n",
    "<li>df(d,t) = document frequency of the term t / how many documents the term t appears in</li>\n",
    "</ul>\n",
    "\n",
    "To do this in Python we utilize the `TfidfVectorizer` provided by the sklearn library. \n",
    "\n",
    "When instantiating the `TfidVectorizer` from sklearn we pass in a list of stop words (i.e. words that don't add any meaning or value to what a given piece of text is about) as well as defining what dimension of <em>**n-grams**</em> we want. Just as we did with the `CountVectorizer`<br>\n",
    "An <em>**n-gram**</em> is simply a sequence of <em>**N**</em> words. This is often use in NLP applications like autocompletion of sentences. After being trained on a huge <em>**Corpus**</em> of data the model will be able to predict what word has the highest probability of following a sequence of words. <br>\n",
    "If you for example wrote \"Thank you so much for your\" most humans would easily deduce that the next word in that sentence would be <em>\"time\"</em> or <em>\"help\"</em>. For a machine to do this you tell it to gather words in <em>**n-grams**</em>, as for example:\n",
    "<ul>\n",
    "<li>San Francisco (is a 2-gram)</li>\n",
    "<li>The Three Musketeers (is a 3-gram)</li>\n",
    "<li>She stood up slowly (is a 4-gram)</li>\n",
    "</ul>\n",
    "\n",
    "This is used in our `TfidfVectorizer` to capture the <em><strong>context</strong></em> in which word are used together.\n",
    "In other words the vectorizer doesn't simply just look at single words and produce a matrix with numbers for each word but produces a matrix with sequences of words in context and gives each of these a number for identification.<br>\n",
    "In our case we will start by trying to look for <em><strong>bigrams</strong></em>\n",
    "The TfIDF vectorizer basically first creates a `CountVectorizer` <strong>and</strong> calculates the Inverse Document Frequency (IDF) and finally with these compute the TF-IDF scores.\n"
   ]
  },
  {
   "cell_type": "code",
   "execution_count": 13,
   "metadata": {},
   "outputs": [],
   "source": [
    "# Initialize the TFIDF\n",
    "tfidf_vectorizer = TfidfVectorizer(stop_words='english', ngram_range=(1, 2),use_idf=True)\n",
    "\n",
    "## Fit and transform the training data \n",
    "# We make the model learn vocabulary and IDF from training set (fit the model to the training data and save the vectorizer/model as a variable) \n",
    "# Put simply the fit method calculates the mean and variance of each of the features present in the dataset.\n",
    "\n",
    "tfidf_train = tfidf_vectorizer.fit_transform(X_train)\n",
    "\n",
    "## Transform the test set \n",
    "# Furthemore we also transform the traning data (to look for bigrams and exclude stopwords as defined above)\n",
    "# Again this simply means that we map the vocabulary from the training data to that of the test data, \n",
    "# so that the number of feautres in the test data remains the same as in the training data\n",
    "\n",
    "tfidf_test = tfidf_vectorizer.transform(X_test)\n"
   ]
  },
  {
   "cell_type": "code",
   "execution_count": 14,
   "metadata": {},
   "outputs": [
    {
     "name": "stderr",
     "output_type": "stream",
     "text": [
      "/opt/homebrew/Caskroom/miniconda/base/envs/ML-env/lib/python3.9/site-packages/sklearn/naive_bayes.py:591: UserWarning: alpha too small will result in numeric errors, setting alpha = 1.0e-10\n",
      "  warnings.warn(\n"
     ]
    },
    {
     "name": "stdout",
     "output_type": "stream",
     "text": [
      "Alpha: 0.00 Score: 88.48558%\n",
      "Alpha: 0.05 Score: 93.14904%\n",
      "Alpha: 0.10 Score: 92.18750%\n",
      "Alpha: 0.15 Score: 91.27404%\n",
      "Alpha: 0.20 Score: 90.67308%\n",
      "Alpha: 0.25 Score: 89.97596%\n",
      "Alpha: 0.30 Score: 89.35096%\n",
      "Alpha: 0.35 Score: 88.67788%\n",
      "Alpha: 0.40 Score: 88.36538%\n",
      "Alpha: 0.45 Score: 87.90865%\n",
      "Alpha: 0.50 Score: 87.45192%\n",
      "Alpha: 0.55 Score: 87.01923%\n",
      "Alpha: 0.60 Score: 86.46635%\n",
      "Alpha: 0.65 Score: 86.15385%\n",
      "Alpha: 0.70 Score: 85.96154%\n",
      "Alpha: 0.75 Score: 85.67308%\n",
      "Alpha: 0.80 Score: 85.40865%\n",
      "Alpha: 0.85 Score: 85.14423%\n",
      "Alpha: 0.90 Score: 85.00000%\n",
      "Alpha: 0.95 Score: 84.73558%\n"
     ]
    }
   ],
   "source": [
    "for alpha in np.arange(0,1,.05):\n",
    "    nb_classifier_tune = MultinomialNB(alpha=alpha)\n",
    "    nb_classifier_tune.fit(tfidf_train, y_train)\n",
    "    pred_tune = nb_classifier_tune.predict(tfidf_test)\n",
    "    score = metrics.accuracy_score(y_test, pred_tune)\n",
    "    print(\"Alpha: {:.2f} Score: {:.5f}%\".format(alpha, score*100))"
   ]
  },
  {
   "cell_type": "markdown",
   "metadata": {},
   "source": [
    "As seen we obtain a slightly higher score than with simply the count vectorizer with an alpha of 0.05 resulting in an accuracy of 93.15%. Plotting the confusion matrix for this gives us:"
   ]
  },
  {
   "cell_type": "code",
   "execution_count": 15,
   "metadata": {},
   "outputs": [
    {
     "data": {
      "image/png": "[encoded data removed]",
      "text/plain": [
       "<Figure size 432x288 with 2 Axes>"
      ]
     },
     "metadata": {
      "needs_background": "light"
     },
     "output_type": "display_data"
    }
   ],
   "source": [
    "# Create the Multinomial naive bayes classifier\n",
    "nb_classifier = MultinomialNB(alpha = 0.05)\n",
    "# Fit it to the data\n",
    "nb_classifier.fit(tfidf_train, y_train)\n",
    "# Attempt to predict on the test data\n",
    "pred_nb_tfidf = nb_classifier.predict(tfidf_test)\n",
    "# Create confusion matrix and plot it:\n",
    "cm2 = metrics.confusion_matrix(y_test, pred_nb_tfidf, labels=[0,1])\n",
    "plot_confusion_matrix(cm2, classes=['TRUE','FAKE'], title ='Confusion matrix for a Multinomial Naive Bayes with TF-IDF vectorizer')"
   ]
  },
  {
   "cell_type": "markdown",
   "metadata": {},
   "source": [
    "As seen we do get slightly more correctly labelled as actual fake-news but at the same time we get more fake positives. \n",
    "We will have to use something else than naive bayes to achieve a good score.\n",
    "## Passive Aggresive Classifier with a Count Vectorizer\n",
    "Passive aggressive classifiers are a form of machine learning algorithms that work slightly different than the more conventional algorithms in the sence that it is an <em><strong>online-learning algorithm</strong></em>. <br>\n",
    "In other words the input data comes sequentially and the machine learning model is updated setp-by-step as oppposed to <em><strong>batch</strong></em> learning in which the entire training dataset is used at once. <br>\n",
    "<em><strong>Online-learning algorithms</strong></em> are quite useful in situations where there is such a vast amount of data, that it becomes unfeasable to train on the entire dataset. Such as when you have a dataset of fake-news stories which are constantly being posted anew online.\n",
    "\n",
    "### How Passive aggressive algorithms work\n",
    "The passive aggressive algorithms have as the name implies two important properties:\n",
    "* <strong>Passiveness</strong>: if the prediction made is correct, keep the model and don't make any changes.\n",
    "* <strong>Aggressiveness</strong>: If the prediction is incorrect, make changes to the model.\n",
    "\n",
    "The `PassiveAgressiveClassifier` provided by the sklearn package takes 3 input parameters when instantiating a model:\n",
    "\n",
    "* <strong>C</strong> : This is the regularization parameter, and denotes the penalization the model will make on an incorrect prediction\n",
    "* <strong>max_iter</strong> : The maximum number of iterations the model makes over the training data.\n",
    "* <strong>tol</strong> : The stopping criterion. If it is set to None, the model will stop when (loss > previous_loss  –  tol). By default, it is set to 1e-3.\n",
    "\n",
    "We now combine this classifier with the `CountVectorizer`and `TfidfVectorizer` respectively to see if this will improve the accuracy of the model"
   ]
  },
  {
   "cell_type": "code",
   "execution_count": 25,
   "metadata": {},
   "outputs": [
    {
     "name": "stdout",
     "output_type": "stream",
     "text": [
      "Accuracy: 95.62500%\n"
     ]
    },
    {
     "name": "stderr",
     "output_type": "stream",
     "text": [
      "/opt/homebrew/Caskroom/miniconda/base/envs/ML-env/lib/python3.9/site-packages/sklearn/linear_model/_stochastic_gradient.py:705: ConvergenceWarning: Maximum number of iteration reached before convergence. Consider increasing max_iter to improve the fit.\n",
      "  warnings.warn(\n"
     ]
    },
    {
     "data": {
      "image/png": "[encoded data removed]",
      "text/plain": [
       "<Figure size 432x288 with 2 Axes>"
      ]
     },
     "metadata": {
      "needs_background": "light"
     },
     "output_type": "display_data"
    }
   ],
   "source": [
    "# Instantiate the model\n",
    "linear_classifier = PassiveAggressiveClassifier(max_iter=10)\n",
    "# Fit the model to the ((count) vectorized) training data\n",
    "linear_classifier.fit(count_train, y_train)\n",
    "# Make a prediction\n",
    "pred_linear_count = linear_classifier.predict(count_test)\n",
    "# Extract the accuracy and print it\n",
    "acc_linear_count = metrics.accuracy_score(y_test, pred_linear_count)\n",
    "print(\"Accuracy: {:.5f}%\".format(acc_linear_count*100))\n",
    "# Create a confusion matrix and plot it\n",
    "cm3 = metrics.confusion_matrix(y_test, pred_linear_count, labels=[0,1])\n",
    "plot_confusion_matrix(cm3, classes=['TRUE','FAKE'], title ='Confusion matrix for a Passive Aggressive Classifier with Count Vectorizer')"
   ]
  },
  {
   "cell_type": "code",
   "execution_count": 31,
   "metadata": {},
   "outputs": [
    {
     "name": "stdout",
     "output_type": "stream",
     "text": [
      "Accuracy: 97.64423%\n"
     ]
    },
    {
     "data": {
      "image/png": "[encoded data removed]",
      "text/plain": [
       "<Figure size 432x288 with 2 Axes>"
      ]
     },
     "metadata": {
      "needs_background": "light"
     },
     "output_type": "display_data"
    }
   ],
   "source": [
    "# Instantiate the model\n",
    "linear_classifier = PassiveAggressiveClassifier(max_iter=10)\n",
    "# Fit the model to the (TF-IDF) training data\n",
    "linear_classifier.fit(tfidf_train, y_train)\n",
    "# Make a prediction\n",
    "pred_linear_tfidf = linear_classifier.predict(tfidf_test)\n",
    "# Extract the accuracy and print it\n",
    "acc_linear_tfidf = metrics.accuracy_score(y_test, pred_linear_tfidf)\n",
    "print(\"Accuracy: {:.5f}%\".format(acc_linear_tfidf*100))\n",
    "# Create a confusion matrix and plot it\n",
    "cm4 = metrics.confusion_matrix(y_test, pred_linear_tfidf, labels=[0,1])\n",
    "plot_confusion_matrix(cm4, classes=['TRUE','FAKE'], title ='Confusion matrix for a Passive Aggressive Classifier with TF-IDF Vectorizer')"
   ]
  },
  {
   "cell_type": "markdown",
   "metadata": {},
   "source": [
    "As seen this grants a vastly higher performance than with the bag-of-words method with the `CountVectorizer`comming in at 95.79% and the `TfidfVectorizer`comming in at 97.86%.\n",
    "\n",
    "Looking at each of their respective confusion matrixes we also see that the `CountVectorizer` produced a few more fake positives than the `TfidfVectorizer` while also producing less true positives as well as true negatives. Finally the `CountVectorizer` produced nearly 4 times as many false negatives.\n",
    "\n",
    "All in all the `PassiveAggressiveClassifier` used in conjunction with the `TfidfVectorizer` produced the overall best performance thus far."
   ]
  },
  {
   "cell_type": "markdown",
   "metadata": {},
   "source": [
    "## Logistic Regression\n",
    "Logistic regression is a method used in statistics for modeling the probability of a discrete outcome given an input variable. In this case a binary outcome: fake-news or not fake-news. You can also have multinomial logistic regression (i.e. is a car blue, red, orange etc.) or ordinal (three or more categories with ranking (e.g. 1-5 stars)).\n",
    "Once again the sklearn library provides us with what we need with its `LogisticRegression`class.\n",
    "This takes as input the <em>inverse of regularization strength</em> denoted C. <br>\n",
    "<em><strong>Regularization</strong></em> means to apply a penalty for increasing the magnitude of parameter values in order to reduce overfitting.\n",
    "When a model is trained, the parameters that best fit the data are chosen for that model. This can result in the model being <em><strong>overfitted</strong></em> to that specific dataset. This often happens when you have a small dataset. Simply put you balance out the <em>small pertubances</em> that occur in the data so that you avoid overfitting.<br>\n",
    "In this case having a high value of C tells the model to give high weight to the training data and lower the weight of penalizing complexity (the pertubances in the data). In other words allowing for more overfitting while a lower value of C would induce an opposite effect. <br>\n",
    "Once again we'll try with both the `CountVectorizer` and the `TfidfVectorizer`\n",
    "### Logistic Regression with `CountVectorizer`"
   ]
  },
  {
   "cell_type": "code",
   "execution_count": 28,
   "metadata": {},
   "outputs": [
    {
     "name": "stdout",
     "output_type": "stream",
     "text": [
      "Accuracy: 97.25962%\n"
     ]
    },
    {
     "data": {
      "image/png": "[encoded data removed]",
      "text/plain": [
       "<Figure size 432x288 with 2 Axes>"
      ]
     },
     "metadata": {
      "needs_background": "light"
     },
     "output_type": "display_data"
    }
   ],
   "source": [
    "# Instantiate the model\n",
    "logreg = LogisticRegression(C=1e6)\n",
    "# Fit the model to the (TF-IDF) training data\n",
    "logreg.fit(count_train, y_train)\n",
    "# Make a prediction\n",
    "pred_logreg_count = logreg.predict(count_test)\n",
    "# Extract the accuracy and print it\n",
    "acc_logreg_count = metrics.accuracy_score(y_test,pred_logreg_count)\n",
    "print(\"Accuracy: {:.5f}%\".format(acc_logreg_count*100))\n",
    "# Create a confusion matrix and plot it\n",
    "cm5 = metrics.confusion_matrix(y_test, pred_logreg_count, labels=[0,1])\n",
    "plot_confusion_matrix(cm5, classes=['TRUE','FAKE'], title ='Confusion matrix for a Logistic Regression with Count Vectorizer')"
   ]
  },
  {
   "cell_type": "markdown",
   "metadata": {},
   "source": [
    "### Logistic Regression with `TfidfVectorizer`"
   ]
  },
  {
   "cell_type": "code",
   "execution_count": 29,
   "metadata": {},
   "outputs": [
    {
     "name": "stdout",
     "output_type": "stream",
     "text": [
      "Accuracy: 97.78846%\n"
     ]
    },
    {
     "data": {
      "image/png": "[encoded data removed]",
      "text/plain": [
       "<Figure size 432x288 with 2 Axes>"
      ]
     },
     "metadata": {
      "needs_background": "light"
     },
     "output_type": "display_data"
    }
   ],
   "source": [
    "# Instantiate the model\n",
    "logreg = LogisticRegression(C=1e6,max_iter=10000)\n",
    "# Fit the model to the (TF-IDF) training data\n",
    "logreg.fit(tfidf_train, y_train)\n",
    "# Make a prediction\n",
    "pred_logreg_tfidf = logreg.predict(tfidf_test)\n",
    "# Extract the accuracy and print it\n",
    "acc_logreg_tfidf = metrics.accuracy_score(y_test,pred_logreg_tfidf)\n",
    "print(\"Accuracy: {:.5f}%\".format(acc_linear_tfidf*100))\n",
    "# Create a confusion matrix and plot it\n",
    "cm6 = metrics.confusion_matrix(y_test, pred_logreg_tfidf, labels=[0,1])\n",
    "plot_confusion_matrix(cm6, classes=['TRUE','FAKE'], title ='Confusion matrix for a Logistic Regression with Tf-IDF Vectorizer')"
   ]
  }
 ],
 "metadata": {
  "interpreter": {
   "hash": "17b81d1410ae8400a81e71fd12caf3ff81e5025f2f4c890ef7035bf6adb45d29"
  },
  "kernelspec": {
   "display_name": "Python 3.9.12 ('ML-env')",
   "language": "python",
   "name": "python3"
  },
  "language_info": {
   "codemirror_mode": {
    "name": "ipython",
    "version": 3
   },
   "file_extension": ".py",
   "mimetype": "text/x-python",
   "name": "python",
   "nbconvert_exporter": "python",
   "pygments_lexer": "ipython3",
   "version": "3.9.12"
  },
  "orig_nbformat": 4
 },
 "nbformat": 4,
 "nbformat_minor": 2
}
